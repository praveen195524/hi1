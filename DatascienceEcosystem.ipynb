{
 "cells": [
  {
   "cell_type": "markdown",
   "id": "9358cae8",
   "metadata": {},
   "source": [
    "# Data Science Tools and Ecosystem"
   ]
  },
  {
   "cell_type": "markdown",
   "id": "53249c75",
   "metadata": {},
   "source": [
    "# Introduction\n",
    "\n",
    "In this notebook, we will explore the fascinating world of Data Science Tools and Ecosystem. We will dive into various tools, libraries, and frameworks that are commonly used by data scientists to analyze, visualize, and manipulate data. By the end of this notebook, you will have a solid understanding of the essential tools and resources available in the data science ecosystem, empowering you to tackle a wide range of data-driven challenges.\n"
   ]
  },
  {
   "cell_type": "markdown",
   "id": "d9da2802",
   "metadata": {},
   "source": [
    "# LANGUAGES USED IN DATA SCIENCE"
   ]
  },
  {
   "cell_type": "markdown",
   "id": "19569b47",
   "metadata": {},
   "source": [
    "Some of the popular languages that Data Scientists use are:"
   ]
  },
  {
   "cell_type": "markdown",
   "id": "cbd742a4",
   "metadata": {},
   "source": [
    "1) R \n",
    "2) python\n",
    "3) SQL"
   ]
  },
  {
   "cell_type": "markdown",
   "id": "96545328",
   "metadata": {},
   "source": [
    "# LIBRARIES USED BY DATA SCIENTISTS"
   ]
  },
  {
   "cell_type": "markdown",
   "id": "846d0cff",
   "metadata": {},
   "source": [
    "Some of the commonly used libraries used by Data Scientists include:"
   ]
  },
  {
   "cell_type": "markdown",
   "id": "434d51d3",
   "metadata": {},
   "source": [
    "1) Numpy\n",
    "2) pandas\n",
    "3) matplotlib\n",
    "4) seaborn\n",
    "5) Tensorflow"
   ]
  },
  {
   "cell_type": "markdown",
   "id": "1762b1ee",
   "metadata": {},
   "source": [
    "# DATASCIENCE TOOLS"
   ]
  },
  {
   "cell_type": "markdown",
   "id": "a97a3697",
   "metadata": {},
   "source": [
    "\n",
    "\n",
    "| Data Science Tools |\n",
    "| ------------------ |\n",
    "| Jupyter Notebook   |\n",
    "| RStudio            |\n",
    "| PyCharm            |\n",
    "\n"
   ]
  },
  {
   "cell_type": "markdown",
   "id": "63a6dc59",
   "metadata": {},
   "source": [
    "### Examples of Evaluating Arithmetic Expressions in Python\n",
    "\n",
    "Below are a few examples of evaluating arithmetic expressions in Python.\n",
    "\n"
   ]
  },
  {
   "cell_type": "markdown",
   "id": "d94249f4",
   "metadata": {},
   "source": [
    "# This is a simple arithmetic expression to multiply then add integers"
   ]
  },
  {
   "cell_type": "code",
   "execution_count": 4,
   "id": "af292c10",
   "metadata": {},
   "outputs": [
    {
     "name": "stdout",
     "output_type": "stream",
     "text": [
      "17\n"
     ]
    }
   ],
   "source": [
    "result = (3 * 4) + 5\n",
    "print(result)\n"
   ]
  },
  {
   "cell_type": "markdown",
   "id": "723b05be",
   "metadata": {},
   "source": [
    "# This will convert 200 minutes to hours by dividing by 60\n",
    "\n"
   ]
  },
  {
   "cell_type": "code",
   "execution_count": 5,
   "id": "cf24948f",
   "metadata": {},
   "outputs": [
    {
     "name": "stdout",
     "output_type": "stream",
     "text": [
      "3.3333333333333335\n"
     ]
    }
   ],
   "source": [
    "\n",
    "minutes = 200\n",
    "hours = minutes / 60\n",
    "print(hours)\n"
   ]
  },
  {
   "cell_type": "markdown",
   "id": "7646a122",
   "metadata": {},
   "source": [
    "**Objectives:**\n",
    "\n",
    "- List popular languages for Data Science.\n",
    "- Explore commonly used libraries in Data Science.\n",
    "- Introduce arithmetic expressions and evaluation in Python.\n",
    "- Convert minutes to hours using Python.\n",
    "- Provide an overview of Data Science tools and the ecosystem.\n",
    "\n"
   ]
  },
  {
   "cell_type": "markdown",
   "id": "2bcca5f0",
   "metadata": {},
   "source": [
    "## Author\n",
    "\n",
    "PALANI P\n"
   ]
  },
  {
   "cell_type": "code",
   "execution_count": null,
   "id": "3d53837d",
   "metadata": {},
   "outputs": [],
   "source": []
  }
 ],
 "metadata": {
  "kernelspec": {
   "display_name": "Python 3 (ipykernel)",
   "language": "python",
   "name": "python3"
  },
  "language_info": {
   "codemirror_mode": {
    "name": "ipython",
    "version": 3
   },
   "file_extension": ".py",
   "mimetype": "text/x-python",
   "name": "python",
   "nbconvert_exporter": "python",
   "pygments_lexer": "ipython3",
   "version": "3.10.9"
  }
 },
 "nbformat": 4,
 "nbformat_minor": 5
}
